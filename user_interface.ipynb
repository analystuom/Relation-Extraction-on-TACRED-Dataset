{
 "cells": [
  {
   "metadata": {
    "ExecuteTime": {
     "end_time": "2025-03-07T17:22:41.895363Z",
     "start_time": "2025-03-07T17:22:41.892676Z"
    }
   },
   "cell_type": "code",
   "source": [
    "import sys\n",
    "import os\n",
    "\n",
    "module_path = os.path.abspath(os.path.dirname('.'))\n",
    "if module_path not in sys.path:\n",
    "    sys.path.append(module_path)\n",
    "\n",
    "import choose_model_test"
   ],
   "id": "85ce53c1ea000102",
   "outputs": [],
   "execution_count": 10
  },
  {
   "metadata": {
    "ExecuteTime": {
     "end_time": "2025-03-07T17:22:45.267723Z",
     "start_time": "2025-03-07T17:22:41.896777Z"
    }
   },
   "cell_type": "code",
   "source": [
    "# Get available models\n",
    "available_models = choose_model_test.get_available_models()\n",
    "print(f\"Available models: {', '.join(available_models)}\")\n",
    "\n",
    "# Get model type from user\n",
    "model_type = input(f\"Please choose from: {', '.join(available_models)}. Enter the model type: \").strip().lower()\n",
    "\n",
    "# Check if the model is valid\n",
    "if model_type not in available_models:\n",
    "    print(f\"Invalid model type. Please choose from: {', '.join(available_models)}\")\n",
    "else:\n",
    "    print(f\"Selected model: {model_type.upper()}\")"
   ],
   "id": "bb8765785b8fd2bb",
   "outputs": [
    {
     "name": "stdout",
     "output_type": "stream",
     "text": [
      "Available models: lstm, bert, svm, lstm-relation, bert-relation\n",
      "Selected model: BERT-RELATION\n"
     ]
    }
   ],
   "execution_count": 11
  },
  {
   "metadata": {
    "ExecuteTime": {
     "end_time": "2025-03-07T17:22:54.959754Z",
     "start_time": "2025-03-07T17:22:45.268634Z"
    }
   },
   "cell_type": "code",
   "source": [
    "# Get inputs from user\n",
    "sentence = input(\"Enter a sentence: \").strip()\n",
    "entity1 = input(\"Enter the first entity (subject): \").strip()\n",
    "entity2 = input(\"Enter the second entity (object): \").strip()\n",
    "\n",
    "# Make prediction\n",
    "result = choose_model_test.predict_relation(sentence, entity1, entity2, model_type)\n",
    "\n",
    "# Display formatted result\n",
    "print(choose_model_test.format_result(result))"
   ],
   "id": "85142e651f1103fd",
   "outputs": [
    {
     "name": "stdout",
     "output_type": "stream",
     "text": [
      "MODEL LOADED SUCCESSFULLY\n",
      "\n",
      "Results:\n",
      "  Model: BERT-RELATION\n",
      "  Sentence: Bader lives in Manchester\n",
      "  Entity 1 (Subject): Bader\n",
      "  Entity 2 (Object): Manchester\n",
      "  Predicted relation: per:cities_of_residence\n"
     ]
    }
   ],
   "execution_count": 12
  }
 ],
 "metadata": {
  "kernelspec": {
   "display_name": "Python 3",
   "language": "python",
   "name": "python3"
  },
  "language_info": {
   "codemirror_mode": {
    "name": "ipython",
    "version": 2
   },
   "file_extension": ".py",
   "mimetype": "text/x-python",
   "name": "python",
   "nbconvert_exporter": "python",
   "pygments_lexer": "ipython2",
   "version": "2.7.6"
  }
 },
 "nbformat": 4,
 "nbformat_minor": 5
}
